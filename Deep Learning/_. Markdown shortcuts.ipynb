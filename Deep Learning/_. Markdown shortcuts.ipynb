{
 "cells": [
  {
   "cell_type": "markdown",
   "metadata": {},
   "source": [
    "<span style=\"background-color: #FFFFFF; color: black\">Highlighting</span>\n",
    "\n",
    "<mark>Easier highlighting</mark>\n",
    "\n",
    "<span style=\"color:red\">Colored text</span>\n",
    "\n",
    "#### Table with alignments\n",
    "| Syntax      | Description | Test Text     |\n",
    "| :---        |    :----:   |          ---: |\n",
    "| Header      | Title       | Here's this   |\n",
    "| Paragraph   | Text        | And more      |\n",
    "\n",
    "    int main () {\n",
    "        // Indent by 1 tab for code block\n",
    "    }\n",
    "\n",
    "<img src=\"images/img4.png\" width=\"50%\" height=\"50%\">\n",
    "\n",
    "<https://www.markdownguide.org/extended-syntax/>\n",
    "\n",
    "\n",
    "When $a \\ne 0$, there are two solutions to $(ax^2 + bx + c = 0)$ and they are \n",
    "$$ x = {-b \\pm \\sqrt{b^2-4ac} \\over 2a} $$\n",
    "\n",
    "$$\n",
    "f(x) = \n",
    "\\begin{cases}\n",
    "    1 & \\text{if } x > 0 \\\\\n",
    "    2 & \\text{if } x \\leq 0\n",
    "\\end{cases}\n",
    "$$\n",
    "\n",
    "$\\implies$ $\\therefore$"
   ]
  }
 ],
 "metadata": {
  "language_info": {
   "name": "python"
  },
  "orig_nbformat": 4
 },
 "nbformat": 4,
 "nbformat_minor": 2
}
