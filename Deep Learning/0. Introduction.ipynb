{
 "cells": [
  {
   "cell_type": "markdown",
   "metadata": {},
   "source": [
    "# AI, ML, DL\n",
    "\n",
    "> ### AI (general):\n",
    ">\n",
    "> Reproduce **human intelligence** with machines \n",
    "\n",
    "- Symbolic Approach: Show Data and Program (construct well-defined symbols, how to manipulate symbols) -> Result\n",
    "- Connectionist Approach: Show Data (observations) and Results (training), and then based on many data, form a program\n",
    "\n",
    "> ### Machine Learning:\n",
    "> \n",
    "> A subset of AI\n",
    "> \n",
    "> Enables computers to learn from data, rather than being explicitly programmed, to solve a task  \n",
    "> Some methids of training data:\n",
    ">\n",
    "> - Decision trees and Random forests\n",
    "> - K-Nearest Neighbor\n",
    "> - Naive Bayes\n",
    "> - Support Vectors Machines (SVM)\n",
    "> - Gaussian processes, ...\n",
    "\n",
    "#### Why do we need ML?\n",
    "\n",
    "If we try to come up with a set of rules (e.g. if statements in programming), there will be counter examples all the time, and your model will fail\n",
    "\n",
    "> Formal Definition of ML:\n",
    "> \n",
    "> \"A computer program is said to learn from <span style=\"color:cyan\">experience E</span> with respect to  \n",
    "> some class of <span style=\"color:cyan\">tasks T</span> and <span style=\"color:cyan\">performance measure P</span>, if its performance at tasks  \n",
    "> in T, as measured by P, improves with experience E.\"\n",
    "\n",
    "--> All of ML, CV, NLP, etc. are now dominated by **Deep Learning**, all are brought together (multimodal learning)"
   ]
  },
  {
   "cell_type": "markdown",
   "metadata": {},
   "source": [
    "# Deep Learning \n",
    "\n",
    "> \n",
    "> DL is a subset of Machine Learning, but uses a very significant way of training models (multiple levels)\n",
    "> \n",
    "> **Deep Learning** is the latest version of **Artificial Neural Networks (ANN)**, or **Connectionism** - an old ML method\n",
    "\n",
    "![Alt text](images/img.png)\n",
    "\n",
    "Deep Neural Networks in easy terms, are training models through multiple layers(can see the evolution)"
   ]
  },
  {
   "cell_type": "markdown",
   "metadata": {},
   "source": [
    "Formal Definition:\n",
    "\n",
    "> \"Deep learning is a subset of machine learning that allows <span style=\"color:cyan\">multiple levels of representation</span>,  \n",
    "> obtained by composing simple but <span style=\"color:cyan\">non-linear modules</span> that each transform the representation  \n",
    "> at one level (<span style=\"color:cyan\">starting with the raw input</span>) into a representation at a higher, slightly more <span style=\"color:cyan\">abstract level</span>.\"  "
   ]
  }
 ],
 "metadata": {
  "language_info": {
   "name": "python"
  },
  "orig_nbformat": 4
 },
 "nbformat": 4,
 "nbformat_minor": 2
}
